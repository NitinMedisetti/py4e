{
 "cells": [
  {
   "cell_type": "markdown",
   "metadata": {},
   "source": [
    "<h1>14.1 Object oriented definitions and Terminoligies</h1>\n",
    "\n",
    "* A program is made up of many \"objects\"\n",
    "* Instead of being a the \"whole program\", each object is a little 'island' within the program and cooperatively working with other objects.\n",
    "* A program is made up of one or more objects working together, objects make use of other's capabilites\n",
    "\n",
    "<h3>Object</h3>\n",
    "\n",
    "* An object is a bit of self-contained code and data\n",
    "* A key aspect of the object approach is to break the problem into smaller understandable parts\n",
    "* Objects have boundaries that allow us to ignore un- needed detail\n"
   ]
  },
  {
   "cell_type": "markdown",
   "metadata": {},
   "source": []
  }
 ],
 "metadata": {
  "language_info": {
   "name": "python"
  }
 },
 "nbformat": 4,
 "nbformat_minor": 2
}
