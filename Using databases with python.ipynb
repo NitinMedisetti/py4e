{
 "cells": [
  {
   "cell_type": "markdown",
   "metadata": {},
   "source": [
    "<h1>14.1 Object oriented definitions and Terminoligies</h1>\n",
    "\n",
    "* A program is made up of many \"objects\"\n",
    "* Instead of being a the \"whole program\", each object is a little 'island' within the program and cooperatively working with other objects.\n",
    "* A program is made up of one or more objects working together, objects make use of other's capabilites"
   ]
  },
  {
   "cell_type": "markdown",
   "metadata": {},
   "source": [
    "<h3>Object</h3>\n",
    "\n",
    "* An object is a bit of self-contained code and data\n",
    "* A key aspect of the object approach is to break the problem into smaller understandable parts\n",
    "* Objects have boundaries that allow us to ignore un- needed detail\n",
    "\n",
    "<h3>Instance</h3>\n",
    "\n",
    "* One can have an instance of a class or a particular object. The instance is the actual object created at runtime. The set of values of the attributes of a particular object is called its state. The object consists of state and the behavior that's defined in the object's class\n",
    "* Object and Instance are often used interchangeably.\n",
    "\n",
    "<h3>Method</h3>\n",
    "\n",
    "* An object's abilites. Methods and message are often used interchangeably.\n",
    "    * Look at the example below to understand better\n",
    "\n"
   ]
  },
  {
   "cell_type": "markdown",
   "metadata": {},
   "source": [
    "<h1>14.2 Our first class and object</h1>"
   ]
  },
  {
   "cell_type": "code",
   "execution_count": 5,
   "metadata": {},
   "outputs": [
    {
     "name": "stdout",
     "output_type": "stream",
     "text": [
      "so far 1\n",
      "so far 2\n",
      "so far 3\n"
     ]
    }
   ],
   "source": [
    "class partyAnimal:#class - template\n",
    "    def __init__(self):#self is an instance\n",
    "        self.x = 0\n",
    "    def party(self):#party() is a method\n",
    "        self.x = self.x + 1\n",
    "        print(\"so far\", self.x)\n",
    "\n",
    "an = partyAnimal()\n",
    "\n",
    "an.party()\n",
    "an.party()\n",
    "an.party()"
   ]
  },
  {
   "cell_type": "markdown",
   "metadata": {},
   "source": [
    "<h3>dir() and type()</h3>\n",
    "\n",
    "* dir() - lists capabilites\n",
    "* type() - tells us something about a variable"
   ]
  },
  {
   "cell_type": "code",
   "execution_count": 6,
   "metadata": {},
   "outputs": [
    {
     "name": "stdout",
     "output_type": "stream",
     "text": [
      "type <class '__main__.partyAnimal'>\n",
      "dir ['__class__', '__delattr__', '__dict__', '__dir__', '__doc__', '__eq__', '__format__', '__ge__', '__getattribute__', '__getstate__', '__gt__', '__hash__', '__init__', '__init_subclass__', '__le__', '__lt__', '__module__', '__ne__', '__new__', '__reduce__', '__reduce_ex__', '__repr__', '__setattr__', '__sizeof__', '__str__', '__subclasshook__', '__weakref__', 'party', 'x']\n",
      "type <class 'int'>\n",
      "type <class 'method'>\n"
     ]
    }
   ],
   "source": [
    "print(\"type\", type(an))\n",
    "print(\"dir\", dir(an))\n",
    "print(\"type\", type(an.x))\n",
    "print(\"type\", type(an.party))"
   ]
  },
  {
   "cell_type": "markdown",
   "metadata": {},
   "source": [
    "<h1>14.3 Object life cycle</h1>\n",
    "\n",
    "* Objects are created, used and disarded\n",
    "    * constructor -> execution -> destructor\n",
    "* Constructors are used a lot, destructors are seldom used."
   ]
  },
  {
   "cell_type": "code",
   "execution_count": 7,
   "metadata": {},
   "outputs": [
    {
     "name": "stdout",
     "output_type": "stream",
     "text": [
      "I am constructed\n",
      "so far 1\n",
      "so far 2\n",
      "I am destructed 2\n",
      "an contains 42\n"
     ]
    }
   ],
   "source": [
    "class partyAnimal:\n",
    "    def __init__(self):             #constructor\n",
    "        self.x = 0\n",
    "        print('I am constructed')\n",
    "    def party(self):                #execution\n",
    "        self.x = self.x + 1\n",
    "        print(\"so far\", self.x)\n",
    "    def __del__(self):              #destructor\n",
    "        print('I am destructed', self.x)\n",
    "\n",
    "an = partyAnimal()\n",
    "an.party()\n",
    "an.party()\n",
    "an = 42                             #an is destructed, so now it gets initialized as an integer\n",
    "print('an contains', an)"
   ]
  },
  {
   "cell_type": "markdown",
   "metadata": {},
   "source": [
    "<h3>Example on multiple instances</h3>"
   ]
  },
  {
   "cell_type": "code",
   "execution_count": 8,
   "metadata": {},
   "outputs": [
    {
     "name": "stdout",
     "output_type": "stream",
     "text": [
      "Sally constructed\n",
      "Sally party count 1\n",
      "Jim constructed\n",
      "Jim party count 1\n",
      "Sally party count 2\n"
     ]
    }
   ],
   "source": [
    "class partyAnimal:\n",
    "    def __init__(self, z):\n",
    "        self.x = 0\n",
    "        self.name = z\n",
    "        print(self.name, 'constructed')\n",
    "    def party(self):\n",
    "        self.x = self.x + 1\n",
    "        print(self.name, \"party count\", self.x)\n",
    "\n",
    "s = partyAnimal('Sally')\n",
    "s.party()\n",
    "j = partyAnimal('Jim')\n",
    "\n",
    "j.party()\n",
    "s.party()"
   ]
  },
  {
   "cell_type": "markdown",
   "metadata": {},
   "source": [
    "<h1>14.4 Object inheritance</h1>\n",
    "\n",
    "* When we make a new class, we can reuse an existing class and <b>inherit</b> all the capabilites of an existing class and then add our own little bit to make our new class\n",
    "* The new class (child) has all the capabilities of the old class (parent) and then some more\n",
    "\n",
    "* 'Subclasses' are more specialized versions of a class, which inherit attributes and behaviours from their parent classes, and can introduce their own"
   ]
  },
  {
   "cell_type": "code",
   "execution_count": 10,
   "metadata": {},
   "outputs": [
    {
     "name": "stdout",
     "output_type": "stream",
     "text": [
      "Sally constructed\n",
      "Sally party count 1\n",
      "Jim constructed\n",
      "Jim party count 1\n",
      "Jim party count 2\n",
      "Jim points 7\n"
     ]
    }
   ],
   "source": [
    "class partyAnimal:\n",
    "    def __init__(self, nam):\n",
    "        self.x = 0\n",
    "        self.name = nam\n",
    "        print(self.name, 'constructed')\n",
    "    def party(self):\n",
    "        self.x = self.x + 1\n",
    "        print(self.name, \"party count\", self.x)\n",
    "\n",
    "class footballFan(partyAnimal):\n",
    "    def __init__(self, nam):\n",
    "        super().__init__(nam)\n",
    "        self.points = 0\n",
    "# footballFan() is a class which extends partyAnimal(). \n",
    "# It has all the capabilities of partyAnimal() and more.\n",
    "\n",
    "    def touchdown(self):\n",
    "        self.points = self.points + 7\n",
    "        self.party()\n",
    "        print(self.name, 'points', self.points)\n",
    "    \n",
    "s = partyAnimal('Sally')\n",
    "s.party()\n",
    "\n",
    "j = footballFan('Jim')\n",
    "j.party()\n",
    "j.touchdown()"
   ]
  },
  {
   "cell_type": "markdown",
   "metadata": {},
   "source": [
    "<h3>Definitions</h3>\n",
    "\n",
    "* Class - a template\n",
    "* Method or Message - A defined capabilit of a class\n",
    "* Field or attribute - A bit of data in a class\n",
    "* Object or Instance - A particular instance of a class\n",
    "* Constructor - code that runs when an object is created\n",
    "* Inheritance - The ability to extend a class to make a new class"
   ]
  }
 ],
 "metadata": {
  "kernelspec": {
   "display_name": "Python 3",
   "language": "python",
   "name": "python3"
  },
  "language_info": {
   "codemirror_mode": {
    "name": "ipython",
    "version": 3
   },
   "file_extension": ".py",
   "mimetype": "text/x-python",
   "name": "python",
   "nbconvert_exporter": "python",
   "pygments_lexer": "ipython3",
   "version": "3.12.3"
  }
 },
 "nbformat": 4,
 "nbformat_minor": 2
}
